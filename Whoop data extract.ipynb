{
 "cells": [
  {
   "cell_type": "markdown",
   "id": "undefined-passport",
   "metadata": {},
   "source": [
    "### Whoop Data Importer"
   ]
  },
  {
   "cell_type": "code",
   "execution_count": null,
   "id": "atomic-strip",
   "metadata": {},
   "outputs": [],
   "source": [
    "import pandas as pd\n",
    "import requests \n",
    "import json\n",
    "from datetime import datetime  # datetime parsing\n",
    "import pytz  # timezone adjusting\n",
    "import csv  # for making csv files\n",
    "import os\n",
    "import seaborn as sns\n",
    "import numpy as np\n",
    "import getpass\n",
    "\n",
    "\n",
    "import plotly.express as px\n",
    "import dash\n",
    "import plotly.graph_objects as go\n",
    "\n",
    "import plotly.io as pio\n",
    "pio.renderers.default = 'iframe' # or 'notebook' or 'colab' or 'jupyterlab'\n",
    "\n",
    "\n",
    "# use the inline backend to generate the plots within the browser\n",
    "%matplotlib inline \n",
    "\n",
    "import matplotlib as mpl\n",
    "import matplotlib.pyplot as plt\n",
    "\n",
    "mpl.style.use('ggplot') # optional: for ggplot-like style\n",
    "\n",
    "# check for latest version of Matplotlib\n",
    "print ('Matplotlib version: ', mpl.__version__) # >= 2.0.0"
   ]
  },
  {
   "cell_type": "code",
   "execution_count": null,
   "id": "preceding-template",
   "metadata": {},
   "outputs": [],
   "source": [
    "#################################################################\n",
    "# Shift+Enter to enter password\n",
    "username = input(\"username\")\n",
    "password = getpass.getpass(\"password\")\n",
    "#################################################################\n",
    "\n",
    "\n",
    "# Post credentials\n",
    "r = requests.post(\"https://api-7.whoop.com/oauth/token\", json={\n",
    "    \"grant_type\": \"password\",\n",
    "    \"issueRefresh\": False,\n",
    "    \"password\": password,\n",
    "    \"username\": username\n",
    "})\n",
    "\n",
    "# Exit if fail\n",
    "\n",
    "\n",
    "if r.status_code != 200:\n",
    "    print(\"Fail - Credentials rejected.\")\n",
    "    exit()\n",
    "else:\n",
    "    print(\"Success - Credentials accepted\")\n",
    "\n",
    "# Set userid/token variables\n",
    "userid = r.json()['user']['id']\n",
    "access_token = r.json()['access_token']"
   ]
  },
  {
   "cell_type": "code",
   "execution_count": null,
   "id": "civilian-serve",
   "metadata": {},
   "outputs": [],
   "source": [
    "#################################################################\n",
    "# GET DATA\n",
    "\n",
    "# Download data\n",
    "url = 'https://api-7.whoop.com/users/{}/cycles'.format(userid)\n",
    "\n",
    "params = {\n",
    "    'start': '2000-01-01T00:00:00.000Z',\n",
    "    'end': '2030-01-01T00:00:00.000Z'\n",
    "}\n",
    "\n",
    "headers = {\n",
    "    'Authorization': 'bearer {}'.format(access_token)\n",
    "}\n",
    "\n",
    "r = requests.get(url, params=params, headers=headers)\n",
    "\n",
    "\n",
    "if r.status_code != 200:\n",
    "    print(\"Fail - User ID / auth token rejected.\")\n",
    "    exit()\n",
    "else:\n",
    "    print(\"Success - User ID / auth token accepted\")\n",
    "    print(\"Whoop JSON imported successfully\")"
   ]
  },
  {
   "cell_type": "code",
   "execution_count": null,
   "id": "included-budget",
   "metadata": {
    "scrolled": true,
    "tags": []
   },
   "outputs": [],
   "source": [
    "#Displaying the raw Json\n",
    "r.json()"
   ]
  },
  {
   "cell_type": "code",
   "execution_count": null,
   "id": "manufactured-repair",
   "metadata": {},
   "outputs": [],
   "source": [
    "data_raw = r.json()"
   ]
  },
  {
   "cell_type": "code",
   "execution_count": null,
   "id": "trying-pleasure",
   "metadata": {
    "scrolled": true,
    "tags": []
   },
   "outputs": [],
   "source": [
    "for l in data_raw:\n",
    "    for u in l[\"sleep\"]['sleeps']:\n",
    "        print(u)"
   ]
  },
  {
   "cell_type": "code",
   "execution_count": null,
   "id": "elementary-planner",
   "metadata": {},
   "outputs": [],
   "source": [
    "#################################################################\n",
    "# PARSE/TRANSFORM DATA\n",
    "\n",
    "\n",
    "\n",
    "def time_parse(time_string, offset_string):\n",
    "    # Switch sign on offset\n",
    "    offset_string = offset_string.replace(\n",
    "        '-', '+') if offset_string.count('-') else offset_string.replace('+', '-')\n",
    "    # Remove tz from time and add offset, get to 19 characters\n",
    "    time_string = time_string[:-(len(time_string) - 19)] + offset_string\n",
    "    # Parse and format\n",
    "    oldformat = '%Y-%m-%dT%H:%M:%S%z'\n",
    "    newformat = '%Y-%m-%d %H:%M:%S'\n",
    "    return datetime.strptime(time_string, oldformat).astimezone(pytz.utc).strftime(newformat)\n",
    "    "
   ]
  },
  {
   "cell_type": "code",
   "execution_count": null,
   "id": "alike-contest",
   "metadata": {
    "scrolled": true,
    "tags": []
   },
   "outputs": [],
   "source": [
    "######Strip data from JSON --> list with dict \n",
    "\n",
    "\n",
    "# Make data list\n",
    "data_summary = []\n",
    "\n",
    "# Iterate through data\n",
    "for d in data_raw:\n",
    "\n",
    "    # Make record object with default values\n",
    "    record = {\n",
    "        'Recovery Date': None,\n",
    "        'rMSSD': None,\n",
    "        'Recovery Score' : None,\n",
    "        'Resting Heart Rate' : None,\n",
    "        'Calories' : None\n",
    "    }\n",
    "\n",
    "    if d['recovery'] and 'heartRateVariabilityRmssd' in d['recovery'] and d['recovery'] and 'score' in d['recovery']:\n",
    "        \n",
    "        record['Recovery Date'] = time_parse(\n",
    "            d['recovery']['timestamp'],\n",
    "            d['sleep']['sleeps'][0]['timezoneOffset'])\n",
    "        record['rMSSD'] = d['recovery']['heartRateVariabilityRmssd'] * 1000.0\n",
    "        \n",
    "        \n",
    "        \n",
    "        record['Recovery Score'] = d['recovery']['score']\n",
    "        record['rMSSD'] = d['recovery']['heartRateVariabilityRmssd'] * 1000.0\n",
    "        record['Resting Heart Rate'] = d['recovery']['restingHeartRate']\n",
    "        record['Calories'] = d['strain']['kilojoules'] / 4.184\n",
    "\n",
    "    \n",
    "    \n",
    "    \n",
    "\n",
    "\n",
    "        data_summary.append(record)"
   ]
  },
  {
   "cell_type": "code",
   "execution_count": null,
   "id": "advanced-craps",
   "metadata": {
    "scrolled": true,
    "tags": []
   },
   "outputs": [],
   "source": [
    "sleep_summary = []\n",
    "\n",
    "for e in data_raw:\n",
    "    \n",
    "    sleep_record = {\n",
    "        'Sleep Date' : None,\n",
    "        'Time in bed' : None,\n",
    "        'Sleep Pref. Score' : None,\n",
    "        'Sleep Effic.' : None,\n",
    "        'Sleep Pref. Score' : None,\n",
    "        'Disturbances' : None,\n",
    "        'Light Sleep time' : None,\n",
    "        'Deep Sleep time' : None,\n",
    "        'REM Sleep time' : None,\n",
    "        \n",
    "    }\n",
    "    \n",
    "    for f in e['sleep']['sleeps']:\n",
    "        sleep_record['Sleep Date'] = f['during']['lower']\n",
    "        sleep_record['Time in bed'] = f['inBedDuration'] / 3.6e+6\n",
    "        sleep_record['Sleep Pref. Score'] = f['score']\n",
    "        sleep_record['Sleep Effic.'] = f['sleepEfficiency'] *100\n",
    "        sleep_record['Disturbances'] = f['disturbanceCount']\n",
    "        sleep_record['Light Sleep time'] = f['lightSleepDuration'] / 3.6e+6\n",
    "        sleep_record['Deep Sleep time'] = f['slowWaveSleepDuration'] / 3.6e+6\n",
    "        sleep_record['REM Sleep time'] = f['remSleepDuration'] / 3.6e+6\n",
    "        \n",
    "        \n",
    "        sleep_summary.append(sleep_record)"
   ]
  },
  {
   "cell_type": "code",
   "execution_count": null,
   "id": "satellite-context",
   "metadata": {
    "scrolled": true,
    "tags": []
   },
   "outputs": [],
   "source": [
    "data_summary"
   ]
  },
  {
   "cell_type": "code",
   "execution_count": null,
   "id": "innocent-dancing",
   "metadata": {
    "scrolled": true,
    "tags": []
   },
   "outputs": [],
   "source": [
    "sleep_summary"
   ]
  },
  {
   "cell_type": "code",
   "execution_count": null,
   "id": "preceding-dietary",
   "metadata": {
    "scrolled": true,
    "tags": []
   },
   "outputs": [],
   "source": [
    "df_sleep = pd.DataFrame(sleep_summary)"
   ]
  },
  {
   "cell_type": "code",
   "execution_count": null,
   "id": "delayed-oriental",
   "metadata": {},
   "outputs": [],
   "source": [
    "df_rec = pd.DataFrame(data_summary)"
   ]
  },
  {
   "cell_type": "code",
   "execution_count": null,
   "id": "sticky-shelf",
   "metadata": {},
   "outputs": [],
   "source": [
    "df_comb = pd.concat([df_rec, df_sleep], axis=1, join='inner')"
   ]
  },
  {
   "cell_type": "code",
   "execution_count": null,
   "id": "solid-seattle",
   "metadata": {},
   "outputs": [],
   "source": [
    "df_comb['Recovery Date'] = pd.to_datetime(df_comb['Recovery Date'])"
   ]
  },
  {
   "cell_type": "code",
   "execution_count": null,
   "id": "spread-curtis",
   "metadata": {},
   "outputs": [],
   "source": [
    "df_comb['Total Sleep Time'] = df_comb['Light Sleep time']+df_comb['Deep Sleep time']+df_comb['REM Sleep time']"
   ]
  },
  {
   "cell_type": "code",
   "execution_count": null,
   "id": "thrown-evanescence",
   "metadata": {},
   "outputs": [],
   "source": [
    "df_comb['Rem Sleep %'] = df_comb['REM Sleep time']/df_comb['Total Sleep Time']\n",
    "df_comb['Deep Sleep %'] = df_comb['Deep Sleep time']/df_comb['Total Sleep Time']\n",
    "df_comb['Light Sleep %'] = df_comb['Light Sleep time']/df_comb['Total Sleep Time']"
   ]
  },
  {
   "cell_type": "code",
   "execution_count": null,
   "id": "stock-maintenance",
   "metadata": {},
   "outputs": [],
   "source": [
    "df_comb['Year'] = pd.DatetimeIndex(df_comb['Recovery Date']).year"
   ]
  },
  {
   "cell_type": "code",
   "execution_count": null,
   "id": "imported-wireless",
   "metadata": {},
   "outputs": [],
   "source": [
    "df_comb['Month'] = pd.DatetimeIndex(df_comb['Recovery Date']).month"
   ]
  },
  {
   "cell_type": "code",
   "execution_count": null,
   "id": "working-hawaii",
   "metadata": {},
   "outputs": [],
   "source": [
    "df_comb['Recov Month-Yr'] = pd.to_datetime(df_comb['Recovery Date']).dt.to_period('M')"
   ]
  },
  {
   "cell_type": "code",
   "execution_count": null,
   "id": "legislative-triangle",
   "metadata": {},
   "outputs": [],
   "source": [
    "df_comb.info()\n"
   ]
  },
  {
   "cell_type": "code",
   "execution_count": null,
   "id": "liked-attraction",
   "metadata": {},
   "outputs": [],
   "source": [
    "###Saving the dataframe to CSV##\n",
    "df_comb.to_csv('WhoopData19-22.csv', index=True)"
   ]
  },
  {
   "cell_type": "code",
   "execution_count": null,
   "id": "governmental-america",
   "metadata": {},
   "outputs": [],
   "source": [
    "df_comb"
   ]
  },
  {
   "cell_type": "code",
   "execution_count": null,
   "id": "emerging-lobby",
   "metadata": {},
   "outputs": [],
   "source": [
    "yr_avg = df_comb.groupby(['Year']).mean()\n",
    "yr_avg.reset_index(inplace=True)\n",
    "yr_avg"
   ]
  },
  {
   "cell_type": "code",
   "execution_count": null,
   "id": "liquid-genealogy",
   "metadata": {},
   "outputs": [],
   "source": [
    "df_whoop_summary = df_comb.groupby(['Year','Month']).mean()\n",
    "df_whoop_summary"
   ]
  },
  {
   "cell_type": "code",
   "execution_count": null,
   "id": "neutral-dallas",
   "metadata": {
    "scrolled": true,
    "tags": []
   },
   "outputs": [],
   "source": [
    "df_sleep = df_whoop_summary[['REM Sleep time','Deep Sleep time']]"
   ]
  },
  {
   "cell_type": "code",
   "execution_count": null,
   "id": "turned-blade",
   "metadata": {},
   "outputs": [],
   "source": [
    "df_sleep.plot(kind='area', stacked=False, figsize=(20, 10))"
   ]
  },
  {
   "cell_type": "code",
   "execution_count": null,
   "id": "rolled-underground",
   "metadata": {
    "scrolled": true,
    "tags": []
   },
   "outputs": [],
   "source": [
    "df_sleep['REM Sleep time']"
   ]
  },
  {
   "cell_type": "code",
   "execution_count": null,
   "id": "failing-tenant",
   "metadata": {
    "scrolled": true,
    "tags": []
   },
   "outputs": [],
   "source": [
    "df_sleep.reset_index(inplace=True)\n",
    "df_sleep"
   ]
  },
  {
   "cell_type": "code",
   "execution_count": null,
   "id": "electric-europe",
   "metadata": {},
   "outputs": [],
   "source": [
    "df_comb_19 = df_comb[df_comb.Year == 2019]"
   ]
  },
  {
   "cell_type": "code",
   "execution_count": null,
   "id": "expensive-confusion",
   "metadata": {},
   "outputs": [],
   "source": [
    "df_comb_20 = df_comb[df_comb.Year == 2020]"
   ]
  },
  {
   "cell_type": "code",
   "execution_count": null,
   "id": "varied-surgery",
   "metadata": {},
   "outputs": [],
   "source": [
    "df_comb_21 = df_comb[df_comb.Year == 2021]"
   ]
  },
  {
   "cell_type": "code",
   "execution_count": null,
   "id": "needed-electronics",
   "metadata": {},
   "outputs": [],
   "source": [
    "HRV_dst_19 = df_comb_19['rMSSD'].value_counts(bins=10, sort=False)\n",
    "print(HRV_dst_19)"
   ]
  },
  {
   "cell_type": "code",
   "execution_count": null,
   "id": "demanding-transformation",
   "metadata": {},
   "outputs": [],
   "source": [
    "HRV_dst_19.plot(kind='bar', stacked=False, figsize=(20, 10))"
   ]
  },
  {
   "cell_type": "code",
   "execution_count": null,
   "id": "conceptual-edward",
   "metadata": {},
   "outputs": [],
   "source": [
    "HRV_dst_20 = df_comb_20['rMSSD'].value_counts(bins=10, sort=False)\n",
    "print(HRV_dst_20)"
   ]
  },
  {
   "cell_type": "code",
   "execution_count": null,
   "id": "federal-hebrew",
   "metadata": {},
   "outputs": [],
   "source": [
    "HRV_dst_20.plot(kind='bar', stacked=False, figsize=(20, 10))"
   ]
  },
  {
   "cell_type": "code",
   "execution_count": null,
   "id": "handled-ocean",
   "metadata": {},
   "outputs": [],
   "source": [
    "HRV_dst_21 = df_comb_21['rMSSD'].value_counts(bins=10, sort=False)\n",
    "print(HRV_dst_21)"
   ]
  },
  {
   "cell_type": "code",
   "execution_count": null,
   "id": "coated-quest",
   "metadata": {},
   "outputs": [],
   "source": []
  }
 ],
 "metadata": {
  "kernelspec": {
   "display_name": "Python 3",
   "language": "python",
   "name": "python3"
  },
  "language_info": {
   "codemirror_mode": {
    "name": "ipython",
    "version": 3
   },
   "file_extension": ".py",
   "mimetype": "text/x-python",
   "name": "python",
   "nbconvert_exporter": "python",
   "pygments_lexer": "ipython3",
   "version": "3.9.2"
  }
 },
 "nbformat": 4,
 "nbformat_minor": 5
}
